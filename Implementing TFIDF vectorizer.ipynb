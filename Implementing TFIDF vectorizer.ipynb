{
 "cells": [
  {
   "cell_type": "markdown",
   "id": "2431ebb6",
   "metadata": {},
   "source": [
    "### Implementing TFIDF vectorizer"
   ]
  },
  {
   "cell_type": "markdown",
   "id": "357555c2",
   "metadata": {},
   "source": [
    "#### Task 1"
   ]
  },
  {
   "cell_type": "code",
   "execution_count": 51,
   "id": "36b5a089",
   "metadata": {},
   "outputs": [],
   "source": [
    "corpus = ['this is the first document',\n",
    "     'this document is the second document',\n",
    "     'and this is the third one',\n",
    "     'is this the first document ',]"
   ]
  },
  {
   "cell_type": "code",
   "execution_count": 52,
   "id": "7b3f370f",
   "metadata": {},
   "outputs": [],
   "source": [
    "from collections import Counter\n",
    "from tqdm import tqdm\n",
    "from scipy.sparse import csr_matrix\n",
    "import math as m\n",
    "import operator\n",
    "from sklearn.preprocessing import normalize\n",
    "import numpy"
   ]
  },
  {
   "cell_type": "code",
   "execution_count": 53,
   "id": "3615ce08",
   "metadata": {},
   "outputs": [],
   "source": [
    "from sklearn.feature_extraction.text import TfidfVectorizer\n",
    "vectorizer = TfidfVectorizer()\n",
    "vectorizer.fit(corpus)\n",
    "skl_output = vectorizer.transform(corpus)"
   ]
  },
  {
   "cell_type": "code",
   "execution_count": 54,
   "id": "158f346a",
   "metadata": {},
   "outputs": [],
   "source": [
    "def fit(dataset):\n",
    "    \"CRAETING VOCABULARY OF UNIQUE WORDS FROM CORPUS\"\n",
    "    vocab = set() \n",
    "    if isinstance(dataset, (list,)):\n",
    "        for row in dataset:\n",
    "            for word in row.split(\" \"): \n",
    "                if len(word) < 2:\n",
    "                    continue\n",
    "                vocab.add(word)\n",
    "        unique_words= sorted(list(vocab))\n",
    "        vocab = {j:i for i,j in enumerate(unique_words)}\n",
    "        return vocab\n",
    "        print(\"you need to pass list of sentance\")"
   ]
  },
  {
   "cell_type": "code",
   "execution_count": 55,
   "id": "24971b55",
   "metadata": {},
   "outputs": [
    {
     "name": "stdout",
     "output_type": "stream",
     "text": [
      "{'and': 0, 'document': 1, 'first': 2, 'is': 3, 'one': 4, 'second': 5, 'the': 6, 'third': 7, 'this': 8}\n"
     ]
    }
   ],
   "source": [
    "vocab=fit(corpus)\n",
    "print(vocab)"
   ]
  },
  {
   "cell_type": "code",
   "execution_count": 56,
   "id": "4fb94b16",
   "metadata": {},
   "outputs": [
    {
     "name": "stdout",
     "output_type": "stream",
     "text": [
      "['and', 'document', 'first', 'is', 'one', 'second', 'the', 'third', 'this']\n"
     ]
    }
   ],
   "source": [
    "print(vectorizer.get_feature_names())"
   ]
  },
  {
   "cell_type": "markdown",
   "id": "edf4edd9",
   "metadata": {},
   "source": [
    "#### BOTH THE VOCABULARY ARE SAME"
   ]
  },
  {
   "cell_type": "code",
   "execution_count": 57,
   "id": "5bf759e1",
   "metadata": {},
   "outputs": [],
   "source": [
    "def tf(corpus,vocab):\n",
    "    \"\"\"FUNCTION TO CALCULATE TF(TERM FREQUENCY) VALUES OF DOCUMENT\"\"\"\n",
    "    tf={}\n",
    "    if isinstance(corpus, (list,)):\n",
    "        for idx, row in enumerate(corpus):          \n",
    "                word_freq = dict(Counter(row.split()))\n",
    "                c=sum(word_freq.values())\n",
    "                for act in vocab.keys():\n",
    "                    if len(act) < 2:\n",
    "                        continue\n",
    "                    if act in word_freq:\n",
    "                        tf[act]=word_freq[act]/c\n",
    "                              \n",
    "                    else:\n",
    "                        tf[act]=0\n",
    "    return(tf)   \n",
    "            "
   ]
  },
  {
   "cell_type": "code",
   "execution_count": 58,
   "id": "6de22e4a",
   "metadata": {},
   "outputs": [],
   "source": [
    "def idf(corpus,vocab):\n",
    "    \"\"\"FUNCTION OF CALCULATE IDF VALUES OF A CORPUS\"\"\"\n",
    "    idf={}\n",
    "    N=len(corpus)\n",
    "   \n",
    "    for act in vocab.keys():\n",
    "        n=0\n",
    "        for idx, row in enumerate((corpus)):\n",
    "            if len(act) < 2:\n",
    "                continue\n",
    "            if act in row:\n",
    "                n=n+1\n",
    "             \n",
    "        idf[act]=1+(m.log((1+N)/(1+float(n))))      \n",
    "    return(idf)          \n",
    "         \n",
    "    \n",
    "    "
   ]
  },
  {
   "cell_type": "code",
   "execution_count": 59,
   "id": "be2da79d",
   "metadata": {},
   "outputs": [
    {
     "data": {
      "text/plain": [
       "{'and': 1.916290731874155,\n",
       " 'document': 1.2231435513142097,\n",
       " 'first': 1.5108256237659907,\n",
       " 'is': 1.0,\n",
       " 'one': 1.916290731874155,\n",
       " 'second': 1.916290731874155,\n",
       " 'the': 1.0,\n",
       " 'third': 1.916290731874155,\n",
       " 'this': 1.0}"
      ]
     },
     "execution_count": 59,
     "metadata": {},
     "output_type": "execute_result"
    }
   ],
   "source": [
    "idf(corpus,vocab)"
   ]
  },
  {
   "cell_type": "code",
   "execution_count": 60,
   "id": "e80258eb",
   "metadata": {},
   "outputs": [
    {
     "name": "stdout",
     "output_type": "stream",
     "text": [
      "[1.91629073 1.22314355 1.51082562 1.         1.91629073 1.91629073\n",
      " 1.         1.91629073 1.        ]\n"
     ]
    }
   ],
   "source": [
    "print(vectorizer.idf_)"
   ]
  },
  {
   "cell_type": "markdown",
   "id": "59e2f4cc",
   "metadata": {},
   "source": [
    "#### BOTH IDF VALUES ARE SAME"
   ]
  },
  {
   "cell_type": "code",
   "execution_count": 61,
   "id": "e8448f61",
   "metadata": {},
   "outputs": [],
   "source": [
    "idfv=idf(corpus,vocab)"
   ]
  },
  {
   "cell_type": "code",
   "execution_count": 62,
   "id": "269409d1",
   "metadata": {},
   "outputs": [],
   "source": [
    "def tranform(corpus,idfs):\n",
    "    \"\"\"TRANSFORM FUNCTION TO CALCULATE THE TFIDF VALUES FOR EACH DOCUMENT AND STORE IN SPARSE MATRIX\"\"\"\n",
    "    rows=[]\n",
    "    colums=[]\n",
    "    values=[]\n",
    "    tfidf={}\n",
    "    if isinstance(corpus, (list,)):\n",
    "        for idx, row in enumerate(tqdm(corpus)):\n",
    "            lis=[]\n",
    "            lis.append(row) # for each document we are calling the function tf to calculate tf values for a particular document\n",
    "            tfval=tf(lis,vocab) \n",
    "            for word,value in idfs.items():\n",
    "                if len(word) < 2:\n",
    "                    continue\n",
    "                tfidf[word]=idfv[word]*tfval[word]\n",
    "                \n",
    "                if tfidf[word]!=0:\n",
    "                    rows.append(idx)\n",
    "                    colums.append(value)\n",
    "                    values.append(tfidf[word])\n",
    "                l=csr_matrix((values, (rows,colums)), shape=(len(corpus),len(vocab)))# creating the sparse matrix\n",
    "                k=normalize(l,norm='l2') # normalize the sparse matrix(l2 norm)\n",
    "        print(k[0])\n",
    "        print(\"_______________________________________________________\")\n",
    "        print(k[0].toarray()) #converting intro dense matrix\n",
    "        print(\"shape of sparse matrix\",k.shape)"
   ]
  },
  {
   "cell_type": "code",
   "execution_count": 63,
   "id": "b66a1214",
   "metadata": {},
   "outputs": [
    {
     "name": "stderr",
     "output_type": "stream",
     "text": [
      "100%|██████████| 4/4 [00:00<00:00, 151.51it/s]"
     ]
    },
    {
     "name": "stdout",
     "output_type": "stream",
     "text": [
      "  (0, 1)\t0.4697913855799205\n",
      "  (0, 2)\t0.580285823684436\n",
      "  (0, 3)\t0.3840852409148149\n",
      "  (0, 6)\t0.3840852409148149\n",
      "  (0, 8)\t0.3840852409148149\n",
      "_______________________________________________________\n",
      "[[0.         0.46979139 0.58028582 0.38408524 0.         0.\n",
      "  0.38408524 0.         0.38408524]]\n",
      "shape of sparse matrix (4, 9)\n"
     ]
    },
    {
     "name": "stderr",
     "output_type": "stream",
     "text": [
      "\n"
     ]
    }
   ],
   "source": [
    "#TFIDF VALUES OF FIRST DOCUMENT STORED IN SPARSE MATRIX AND CONVERTED INTO DENSE MATRIX\n",
    "tranform(corpus,vocab)"
   ]
  },
  {
   "cell_type": "code",
   "execution_count": 64,
   "id": "2c2d3356",
   "metadata": {},
   "outputs": [
    {
     "name": "stdout",
     "output_type": "stream",
     "text": [
      "  (0, 8)\t0.38408524091481483\n",
      "  (0, 6)\t0.38408524091481483\n",
      "  (0, 3)\t0.38408524091481483\n",
      "  (0, 2)\t0.5802858236844359\n",
      "  (0, 1)\t0.46979138557992045\n",
      "_______________________________________________________\n",
      "[[0.         0.46979139 0.58028582 0.38408524 0.         0.\n",
      "  0.38408524 0.         0.38408524]]\n"
     ]
    }
   ],
   "source": [
    "print(skl_output[0])\n",
    "\n",
    "print(\"_______________________________________________________\")\n",
    "\n",
    "print(skl_output[0].toarray())"
   ]
  },
  {
   "cell_type": "markdown",
   "id": "1d98da91",
   "metadata": {},
   "source": [
    "#### BOTH OUTPUT FOR FIRST DOCUMENT IS SAME"
   ]
  },
  {
   "cell_type": "markdown",
   "id": "6fd49396",
   "metadata": {},
   "source": [
    "### Task 2"
   ]
  },
  {
   "cell_type": "code",
   "execution_count": 65,
   "id": "19e12d6d",
   "metadata": {},
   "outputs": [
    {
     "name": "stdout",
     "output_type": "stream",
     "text": [
      "Number of documents in corpus =  746\n"
     ]
    }
   ],
   "source": [
    "import pickle\n",
    "with open('cleaned_strings', 'rb') as f: #IMPORTING PICKLE FILE\n",
    "    corpus = pickle.load(f)\n",
    "print(\"Number of documents in corpus = \",len(corpus))\n"
   ]
  },
  {
   "cell_type": "code",
   "execution_count": 66,
   "id": "92bdb724",
   "metadata": {},
   "outputs": [],
   "source": [
    "def fit(dataset):\n",
    "    \"CRAETING VOCABULARY OF UNIQUE WORDS FROM CORPUS\"\n",
    "    vocab = set() \n",
    "    if isinstance(dataset, (list,)):\n",
    "        for row in dataset:\n",
    "            for word in row.split(\" \"): \n",
    "                if len(word) < 2:\n",
    "                    continue\n",
    "                vocab.add(word)\n",
    "        unique_words= sorted(list(vocab))\n",
    "        vocab = {j:i for i,j in enumerate(unique_words)}\n",
    "        return vocab\n",
    "        print(\"you need to pass list of sentance\")"
   ]
  },
  {
   "cell_type": "code",
   "execution_count": 67,
   "id": "fa69558a",
   "metadata": {},
   "outputs": [],
   "source": [
    "vocab=fit(corpus) # CREATING THE VOCAB OF ALL UNIQUE WORDS IN CORPUS"
   ]
  },
  {
   "cell_type": "code",
   "execution_count": 68,
   "id": "187c5c63",
   "metadata": {},
   "outputs": [],
   "source": [
    "def idf(corpus,vocab):\n",
    "    \"\"\"FUNCTION OF CALCULATE IDF VALUES OF A CORPUS\"\"\"\n",
    "    i=0\n",
    "    idf={}\n",
    "    idfsorted={}\n",
    "    idf50={}\n",
    "    vocab50={}\n",
    "    N=len(corpus)\n",
    "    for act in vocab.keys():\n",
    "        n=0\n",
    "        for idx, row in enumerate((corpus)):\n",
    "            if len(act) < 2:\n",
    "                continue\n",
    "            if act in row:\n",
    "                n=n+1\n",
    "            idf[act]=1+(m.log((1+N)/(1+float(n)))) \n",
    "        \n",
    "    for k in sorted(idf, key=idf.get, reverse=True):\n",
    "            idfsorted[k]=idf[k]       #SORTING DICTIONARY OF IDF BASED ON KEY VALUES(IDF VALUES)\n",
    "    z=Counter(idfsorted)\n",
    "    top=z.most_common(50)            # STORING TOP 50 IDF VALUES\n",
    "    for a,b in top:\n",
    "        vocab50[a]=i               # CREATING VOCABULARY BASED ON TOP 50 IDF VALUES\n",
    "        idf50[a]=b\n",
    "        i=i+1\n",
    "    return vocab50,idf50 # THESE FUNCTION RETURNS TOP 50 IDF VALUES AND WORDS CORRESPONDING TO THAT IDF VALUE\n",
    "        \n",
    "    "
   ]
  },
  {
   "cell_type": "code",
   "execution_count": 69,
   "id": "1a8c1cb3",
   "metadata": {},
   "outputs": [],
   "source": [
    "vocab50,idf50=idf(corpus,vocab)"
   ]
  },
  {
   "cell_type": "code",
   "execution_count": 70,
   "id": "6a358562",
   "metadata": {},
   "outputs": [
    {
     "name": "stdout",
     "output_type": "stream",
     "text": [
      "*******IDF VALUES OF TOP 50 WORDS******\n",
      "\n",
      "\n",
      "{'aailiyah': 6.922918004572872, 'abandoned': 6.922918004572872, 'abroad': 6.922918004572872, 'abstruse': 6.922918004572872, 'academy': 6.922918004572872, 'accents': 6.922918004572872, 'accessible': 6.922918004572872, 'acclaimed': 6.922918004572872, 'accolades': 6.922918004572872, 'accurately': 6.922918004572872, 'achille': 6.922918004572872, 'ackerman': 6.922918004572872, 'adams': 6.922918004572872, 'added': 6.922918004572872, 'admins': 6.922918004572872, 'admiration': 6.922918004572872, 'admitted': 6.922918004572872, 'adrift': 6.922918004572872, 'adventure': 6.922918004572872, 'aesthetically': 6.922918004572872, 'affected': 6.922918004572872, 'affleck': 6.922918004572872, 'afternoon': 6.922918004572872, 'agreed': 6.922918004572872, 'aimless': 6.922918004572872, 'aired': 6.922918004572872, 'akasha': 6.922918004572872, 'alert': 6.922918004572872, 'alike': 6.922918004572872, 'allison': 6.922918004572872, 'allowing': 6.922918004572872, 'alongside': 6.922918004572872, 'amateurish': 6.922918004572872, 'amazed': 6.922918004572872, 'amazingly': 6.922918004572872, 'amusing': 6.922918004572872, 'amust': 6.922918004572872, 'anatomist': 6.922918004572872, 'angela': 6.922918004572872, 'angelina': 6.922918004572872, 'angry': 6.922918004572872, 'anguish': 6.922918004572872, 'angus': 6.922918004572872, 'animals': 6.922918004572872, 'animated': 6.922918004572872, 'anita': 6.922918004572872, 'anniversary': 6.922918004572872, 'anthony': 6.922918004572872, 'antithesis': 6.922918004572872, 'anyway': 6.922918004572872}\n"
     ]
    }
   ],
   "source": [
    "print('*******IDF VALUES OF TOP 50 WORDS******')\n",
    "print(\"\\n\")\n",
    "print(idf50)"
   ]
  },
  {
   "cell_type": "code",
   "execution_count": 71,
   "id": "7eeee6bf",
   "metadata": {},
   "outputs": [
    {
     "name": "stdout",
     "output_type": "stream",
     "text": [
      "*******TOP 50 WORDS AFTER SORTED IDF VALUES******\n",
      "\n",
      "\n",
      "{'aailiyah': 0, 'abandoned': 1, 'abroad': 2, 'abstruse': 3, 'academy': 4, 'accents': 5, 'accessible': 6, 'acclaimed': 7, 'accolades': 8, 'accurately': 9, 'achille': 10, 'ackerman': 11, 'adams': 12, 'added': 13, 'admins': 14, 'admiration': 15, 'admitted': 16, 'adrift': 17, 'adventure': 18, 'aesthetically': 19, 'affected': 20, 'affleck': 21, 'afternoon': 22, 'agreed': 23, 'aimless': 24, 'aired': 25, 'akasha': 26, 'alert': 27, 'alike': 28, 'allison': 29, 'allowing': 30, 'alongside': 31, 'amateurish': 32, 'amazed': 33, 'amazingly': 34, 'amusing': 35, 'amust': 36, 'anatomist': 37, 'angela': 38, 'angelina': 39, 'angry': 40, 'anguish': 41, 'angus': 42, 'animals': 43, 'animated': 44, 'anita': 45, 'anniversary': 46, 'anthony': 47, 'antithesis': 48, 'anyway': 49}\n"
     ]
    }
   ],
   "source": [
    "print('*******TOP 50 WORDS AFTER SORTED IDF VALUES******')\n",
    "print(\"\\n\")\n",
    "print(vocab50)"
   ]
  },
  {
   "cell_type": "code",
   "execution_count": 72,
   "id": "c031269b",
   "metadata": {},
   "outputs": [],
   "source": [
    "def tf(corpus,vocab):\n",
    "    \"\"\"FUNCTION TO CALCULATE TF(TERM FREQUENCY) VALUES OF DOCUMENT\"\"\"\n",
    "    tf={}\n",
    "    if isinstance(corpus, (list,)):\n",
    "        for idx, row in enumerate(corpus):          \n",
    "                word_freq = dict(Counter(row.split()))\n",
    "                c=sum(word_freq.values())\n",
    "                for act in vocab.keys():\n",
    "                    if len(act) < 2:\n",
    "                        continue\n",
    "                    if act in word_freq:\n",
    "                        tf[act]=word_freq[act]/c\n",
    "                              \n",
    "                    else:\n",
    "                        tf[act]=0\n",
    "    return(tf)   "
   ]
  },
  {
   "cell_type": "code",
   "execution_count": 73,
   "id": "628c684a",
   "metadata": {},
   "outputs": [],
   "source": [
    "def tranform(corpus,idfs):\n",
    "    \"\"\"TRANSFORM FUNCTION TO CALCULATE THE TFIDF VALUES FOR EACH DOCUMENT AND STORE IN SPARSE MATRIX\"\"\"\n",
    "    rows=[]\n",
    "    colums=[]\n",
    "    values=[]\n",
    "    tfidf={}\n",
    "    if isinstance(corpus, (list,)):\n",
    "        for idx, row in enumerate(tqdm(corpus)):\n",
    "            lis=[]\n",
    "            lis.append(row) # for each document we are calling the function tf to calculate tf values for a particular document\n",
    "            \n",
    "            tfval=tf(lis,vocab50)  # WE ARE GIVING ONLY TOP 50 WORDS  FOR TF CALCULATION\n",
    "            for word,value in idf50.items():\n",
    "                if len(word) < 2:\n",
    "                    continue\n",
    "                tfidf[word]=idf50[word]*tfval[word]\n",
    "                \n",
    "                if tfidf[word]!=0:\n",
    "                    rows.append(idx)\n",
    "                    colums.append(value)\n",
    "                    values.append(tfidf[word])\n",
    "                l=csr_matrix((values, (rows,colums)), shape=(len(corpus),len(vocab50)))# creating the sparse matrix\n",
    "                k=normalize(l,norm='l2',) # normalize the sparse matrix(l2 norm)\n",
    "        print(k[0])\n",
    "        print(\"_______________________________________________________\")\n",
    "        print(k[0].toarray()) #converting intro dense matrix\n",
    "        print(\"shape of sparse matrix\",k.shape)         \n",
    "  "
   ]
  },
  {
   "cell_type": "code",
   "execution_count": 74,
   "id": "b5632492",
   "metadata": {},
   "outputs": [
    {
     "name": "stderr",
     "output_type": "stream",
     "text": [
      "100%|██████████| 746/746 [00:07<00:00, 96.86it/s] "
     ]
    },
    {
     "name": "stdout",
     "output_type": "stream",
     "text": [
      "  (0, 6)\t1.0\n",
      "_______________________________________________________\n",
      "[[0. 0. 0. 0. 0. 0. 1. 0. 0. 0. 0. 0. 0. 0. 0. 0. 0. 0. 0. 0. 0. 0. 0. 0.\n",
      "  0. 0. 0. 0. 0. 0. 0. 0. 0. 0. 0. 0. 0. 0. 0. 0. 0. 0. 0. 0. 0. 0. 0. 0.\n",
      "  0. 0.]]\n",
      "shape of sparse matrix (746, 50)\n"
     ]
    },
    {
     "name": "stderr",
     "output_type": "stream",
     "text": [
      "\n"
     ]
    }
   ],
   "source": [
    "tranform(corpus,vocab)"
   ]
  },
  {
   "cell_type": "code",
   "execution_count": null,
   "id": "83ffa39f",
   "metadata": {},
   "outputs": [],
   "source": []
  }
 ],
 "metadata": {
  "kernelspec": {
   "display_name": "Python 3",
   "language": "python",
   "name": "python3"
  },
  "language_info": {
   "codemirror_mode": {
    "name": "ipython",
    "version": 3
   },
   "file_extension": ".py",
   "mimetype": "text/x-python",
   "name": "python",
   "nbconvert_exporter": "python",
   "pygments_lexer": "ipython3",
   "version": "3.8.8"
  }
 },
 "nbformat": 4,
 "nbformat_minor": 5
}
